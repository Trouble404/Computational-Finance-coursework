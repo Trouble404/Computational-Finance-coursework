{
 "cells": [
  {
   "cell_type": "code",
   "execution_count": 1,
   "metadata": {
    "collapsed": false
   },
   "outputs": [],
   "source": [
    "import matlab\n",
    "import matlab.engine\n",
    "import time\n",
    "import matplotlib.pyplot as plt\n",
    "import numpy as np\n",
    "from numpy import random"
   ]
  },
  {
   "cell_type": "markdown",
   "metadata": {},
   "source": [
    "![iamge](https://raw.githubusercontent.com/Trouble404/Computational-Finance-coursework/master/readme_pic/Q1.PNG)"
   ]
  },
  {
   "cell_type": "code",
   "execution_count": 15,
   "metadata": {
    "collapsed": true
   },
   "outputs": [],
   "source": [
    "#######################################################################################################################################"
   ]
  },
  {
   "cell_type": "markdown",
   "metadata": {},
   "source": [
    "![image](https://raw.githubusercontent.com/Trouble404/Computational-Finance-coursework/master/readme_pic/Q2.PNG)"
   ]
  },
  {
   "cell_type": "code",
   "execution_count": 16,
   "metadata": {
    "collapsed": false
   },
   "outputs": [],
   "source": [
    "# Assets A1.A2.A3\n",
    "\n",
    "m = np.array([[0.10],[0.20],[0.15]]) # construct matrix\n",
    "\n",
    "C = np.array([[0.005,-0.010,0.004],[-0.010,0.040,-0.002],[0.004,-0.002,0.023]]) # construct matrix\n",
    "\n",
    "E = np.zeros((100,1))   # Expected return E from the portfoli\n",
    "V = np.zeros((100,1))   # Variance\n",
    "w = np.zeros((100,3))   # Weight\n",
    "\n",
    "N = 100\n",
    "y = random.rand(N,3)  # 100X3 random matrix between 0~1\n",
    "for i in range (0,N):\n",
    "    # calculate the weight\n",
    "    w[i] = y[i,] / sum(y[i,]) \n",
    "    # calculate the expected return\n",
    "    E[i] = np.dot(w[i] , m)  \n",
    "    # calculate the Variance\n",
    "    kk = np.dot(w[i] , C)\n",
    "    w_T = np.reshape(w[i], (3, -1))\n",
    "    V[i] = np.sqrt(np.dot(kk , w_T))"
   ]
  },
  {
   "cell_type": "markdown",
   "metadata": {},
   "source": [
    "![image](https://raw.githubusercontent.com/Trouble404/Computational-Finance-coursework/master/readme_pic/S1.PNG)"
   ]
  },
  {
   "cell_type": "code",
   "execution_count": 4,
   "metadata": {
    "collapsed": true
   },
   "outputs": [],
   "source": [
    "eng = matlab.engine.start_matlab(\"-desktop\") # Use Finance toolbox in Matlab to calculate the Efficient Portfolio"
   ]
  },
  {
   "cell_type": "markdown",
   "metadata": {},
   "source": [
    "p = Portfolio;\n",
    "\n",
    "p = setAssetMoments(p, m, C);\n",
    "\n",
    "p = setDefaultConstraints(p);\n",
    "\n",
    "[y,x] = plotFrontier(p);"
   ]
  },
  {
   "cell_type": "code",
   "execution_count": 18,
   "metadata": {
    "collapsed": false
   },
   "outputs": [],
   "source": [
    "# obtain data from matlab\n",
    "x = eng.workspace['x']\n",
    "y = eng.workspace['y']"
   ]
  },
  {
   "cell_type": "code",
   "execution_count": 38,
   "metadata": {
    "collapsed": false
   },
   "outputs": [
    {
     "data": {
      "image/png": "[encoded data removed]",
      "text/plain": [
       "<matplotlib.figure.Figure at 0x2796fda94a8>"
      ]
     },
     "metadata": {},
     "output_type": "display_data"
    }
   ],
   "source": [
    "f1 = plt.figure(1)\n",
    "plt.plot(x,y, linewidth = '2', label = \"Efficient Frontier of A1,A2,A3\")\n",
    "plt.scatter(E,V, c='m', marker='.', linewidths= '2', label = \"Scatter of A1,A2,A3\")\n",
    "plt.legend(loc='upper left')\n",
    "#plt.grid()\n",
    "plt.title('E-V Space Scatter Plot with Efficient Frontier of A1,A2,A3')  \n",
    "plt.ylabel(\"V-Variance\")  \n",
    "plt.xlabel(\"E-Expected Return\")\n",
    "# plt with same scale\n",
    "plt.ylim(0,0.25)\n",
    "plt.xlim(0.11,0.205)\n",
    "plt.savefig(\"E-V Space Scatter Plot with Efficient Frontier of A1,A2,A3.PNG\", dpi = 600)\n",
    "plt.show()"
   ]
  },
  {
   "cell_type": "code",
   "execution_count": null,
   "metadata": {
    "collapsed": true
   },
   "outputs": [],
   "source": [
    "eng.quit()"
   ]
  }
 ],
 "metadata": {
  "anaconda-cloud": {},
  "kernelspec": {
   "display_name": "Python [conda env:python3]",
   "language": "python",
   "name": "conda-env-python3-py"
  },
  "language_info": {
   "codemirror_mode": {
    "name": "ipython",
    "version": 3
   },
   "file_extension": ".py",
   "mimetype": "text/x-python",
   "name": "python",
   "nbconvert_exporter": "python",
   "pygments_lexer": "ipython3",
   "version": "3.6.3"
  }
 },
 "nbformat": 4,
 "nbformat_minor": 1
}
